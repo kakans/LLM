{
 "cells": [
  {
   "cell_type": "code",
   "execution_count": 1,
   "id": "2d621e16",
   "metadata": {},
   "outputs": [],
   "source": [
    "from llmware.models import ModelCatalog\n",
    "from llmware.prompts import Prompt\n",
    "\n",
    "#To load the library\n",
    "from llmware.retrieval import Query\n",
    "from llmware.library import Library"
   ]
  },
  {
   "cell_type": "code",
   "execution_count": 2,
   "id": "4974f733",
   "metadata": {},
   "outputs": [
    {
     "name": "stderr",
     "output_type": "stream",
     "text": [
      "C:\\Users\\HP\\AppData\\Roaming\\Python\\Python311\\site-packages\\torch\\_utils.py:831: UserWarning: TypedStorage is deprecated. It will be removed in the future and UntypedStorage will be the only storage class. This should only matter to you if you are using storages directly.  To access UntypedStorage directly, use tensor.untyped_storage() instead of tensor.storage()\n",
      "  return self.fget.__get__(instance, owner)()\n"
     ]
    }
   ],
   "source": [
    "#   all models accessed through the ModelCatalog\n",
    "models = ModelCatalog().list_all_models()\n",
    "\n",
    "#   to integrate model into a Prompt\n",
    "prompter = Prompt().load_model(\"llmware/bling-tiny-llama-v0\")\n",
    "response = prompter.prompt_main(\"what is the future of AI?\", context=\"Insert Sources of information\")"
   ]
  },
  {
   "cell_type": "code",
   "execution_count": 3,
   "id": "6733ed82",
   "metadata": {},
   "outputs": [
    {
     "data": {
      "text/plain": [
       "{'docs_added': 2,\n",
       " 'blocks_added': 35,\n",
       " 'images_added': 1,\n",
       " 'pages_added': 17,\n",
       " 'tables_added': 0,\n",
       " 'rejected_files': []}"
      ]
     },
     "execution_count": 3,
     "metadata": {},
     "output_type": "execute_result"
    }
   ],
   "source": [
    "##Create a library with all your data.\n",
    "#   to parse and text chunk a set of documents (pdf, pptx, docx, xlsx, txt, csv, md, json)\n",
    "\n",
    "#   step 1 - create a library, which is the 'knowledge-base container' construct\n",
    "#          - libraries have both text collection (DB) resources, and file resources (e.g., llmware_data/accounts/{library_name})\n",
    "#          - embeddings and queries are run against a library\n",
    "\n",
    "lib = Library().create_new_library(\"my_library1\")\n",
    "\n",
    "#    step 2 - add_files is the universal ingestion function - point it at a local file folder with mixed file types\n",
    "#           - files will be routed by file extension to the correct parser, parsed, text chunked and indexed in text collection DB\n",
    "\n",
    "lib.add_files(\"C:\\\\Users\\\\HP\\\\Jupiter Lab\\\\llmware\\\\data\\\\\")"
   ]
  },
  {
   "cell_type": "code",
   "execution_count": 14,
   "id": "9499a649",
   "metadata": {},
   "outputs": [
    {
     "ename": "MilvusException",
     "evalue": "<MilvusException: (code=2, message=Fail connecting to server on localhost:19530, illegal connection params or server unavailable)>",
     "output_type": "error",
     "traceback": [
      "\u001b[1;31m---------------------------------------------------------------------------\u001b[0m",
      "\u001b[1;31mFutureTimeoutError\u001b[0m                        Traceback (most recent call last)",
      "File \u001b[1;32m~\\AppData\\Roaming\\Python\\Python311\\site-packages\\pymilvus\\client\\grpc_handler.py:143\u001b[0m, in \u001b[0;36mGrpcHandler._wait_for_channel_ready\u001b[1;34m(self, timeout)\u001b[0m\n\u001b[0;32m    142\u001b[0m \u001b[38;5;28;01mtry\u001b[39;00m:\n\u001b[1;32m--> 143\u001b[0m     grpc\u001b[38;5;241m.\u001b[39mchannel_ready_future(\u001b[38;5;28mself\u001b[39m\u001b[38;5;241m.\u001b[39m_channel)\u001b[38;5;241m.\u001b[39mresult(timeout\u001b[38;5;241m=\u001b[39mtimeout)\n\u001b[0;32m    144\u001b[0m     \u001b[38;5;28mself\u001b[39m\u001b[38;5;241m.\u001b[39m_setup_identifier_interceptor(\u001b[38;5;28mself\u001b[39m\u001b[38;5;241m.\u001b[39m_user, timeout\u001b[38;5;241m=\u001b[39mtimeout)\n",
      "File \u001b[1;32m~\\AppData\\Roaming\\Python\\Python311\\site-packages\\grpc\\_utilities.py:162\u001b[0m, in \u001b[0;36m_ChannelReadyFuture.result\u001b[1;34m(self, timeout)\u001b[0m\n\u001b[0;32m    161\u001b[0m \u001b[38;5;28;01mdef\u001b[39;00m \u001b[38;5;21mresult\u001b[39m(\u001b[38;5;28mself\u001b[39m, timeout: Optional[\u001b[38;5;28mfloat\u001b[39m] \u001b[38;5;241m=\u001b[39m \u001b[38;5;28;01mNone\u001b[39;00m) \u001b[38;5;241m-\u001b[39m\u001b[38;5;241m>\u001b[39m \u001b[38;5;28;01mNone\u001b[39;00m:\n\u001b[1;32m--> 162\u001b[0m     \u001b[38;5;28mself\u001b[39m\u001b[38;5;241m.\u001b[39m_block(timeout)\n",
      "File \u001b[1;32m~\\AppData\\Roaming\\Python\\Python311\\site-packages\\grpc\\_utilities.py:106\u001b[0m, in \u001b[0;36m_ChannelReadyFuture._block\u001b[1;34m(self, timeout)\u001b[0m\n\u001b[0;32m    105\u001b[0m \u001b[38;5;28;01mif\u001b[39;00m remaining \u001b[38;5;241m<\u001b[39m \u001b[38;5;241m0\u001b[39m:\n\u001b[1;32m--> 106\u001b[0m     \u001b[38;5;28;01mraise\u001b[39;00m grpc\u001b[38;5;241m.\u001b[39mFutureTimeoutError()\n\u001b[0;32m    107\u001b[0m \u001b[38;5;28;01melse\u001b[39;00m:\n",
      "\u001b[1;31mFutureTimeoutError\u001b[0m: ",
      "\nThe above exception was the direct cause of the following exception:\n",
      "\u001b[1;31mMilvusException\u001b[0m                           Traceback (most recent call last)",
      "Cell \u001b[1;32mIn[14], line 4\u001b[0m\n\u001b[0;32m      1\u001b[0m \u001b[38;5;66;03m## you can create two or more vector data based with different model for mix and match.\u001b[39;00m\n\u001b[0;32m      2\u001b[0m \n\u001b[0;32m      3\u001b[0m \u001b[38;5;66;03m#   to install an embedding on a library - pick an embedding model and vector_db\u001b[39;00m\n\u001b[1;32m----> 4\u001b[0m lib\u001b[38;5;241m.\u001b[39minstall_new_embedding(embedding_model_name\u001b[38;5;241m=\u001b[39m\u001b[38;5;124m\"\u001b[39m\u001b[38;5;124mmini-lm-sbert\u001b[39m\u001b[38;5;124m\"\u001b[39m, vector_db\u001b[38;5;241m=\u001b[39m\u001b[38;5;124m\"\u001b[39m\u001b[38;5;124mmilvus\u001b[39m\u001b[38;5;124m\"\u001b[39m, batch_size\u001b[38;5;241m=\u001b[39m\u001b[38;5;241m500\u001b[39m)\n\u001b[0;32m      6\u001b[0m \u001b[38;5;66;03m#   to add a second embedding to the same library (mix-and-match models + vector db)\u001b[39;00m\n\u001b[0;32m      7\u001b[0m lib\u001b[38;5;241m.\u001b[39minstall_new_embedding(embedding_model_name\u001b[38;5;241m=\u001b[39m\u001b[38;5;124m\"\u001b[39m\u001b[38;5;124mindustry-bert-sec\u001b[39m\u001b[38;5;124m\"\u001b[39m, vector_db\u001b[38;5;241m=\u001b[39m\u001b[38;5;124m\"\u001b[39m\u001b[38;5;124mfaiss\u001b[39m\u001b[38;5;124m\"\u001b[39m, batch_size\u001b[38;5;241m=\u001b[39m\u001b[38;5;241m100\u001b[39m)\n",
      "File \u001b[1;32m~\\AppData\\Roaming\\Python\\Python311\\site-packages\\llmware\\library.py:608\u001b[0m, in \u001b[0;36mLibrary.install_new_embedding\u001b[1;34m(self, embedding_model_name, vector_db, from_hf, from_sentence_transformer, model, tokenizer, model_api_key, vector_db_api_key, batch_size, max_len, use_gpu)\u001b[0m\n\u001b[0;32m    605\u001b[0m     my_model\u001b[38;5;241m.\u001b[39mmax_len \u001b[38;5;241m=\u001b[39m max_len\n\u001b[0;32m    607\u001b[0m \u001b[38;5;66;03m# step 2 - pass loaded embedding model to EmbeddingHandler, which will route to the appropriate resource\u001b[39;00m\n\u001b[1;32m--> 608\u001b[0m embeddings \u001b[38;5;241m=\u001b[39m EmbeddingHandler(\u001b[38;5;28mself\u001b[39m)\u001b[38;5;241m.\u001b[39mcreate_new_embedding(vector_db, my_model, batch_size\u001b[38;5;241m=\u001b[39mbatch_size)\n\u001b[0;32m    610\u001b[0m \u001b[38;5;28;01mif\u001b[39;00m \u001b[38;5;129;01mnot\u001b[39;00m embeddings:\n\u001b[0;32m    611\u001b[0m     logging\u001b[38;5;241m.\u001b[39mwarning(\u001b[38;5;124m\"\u001b[39m\u001b[38;5;124mwarning: no embeddings created\u001b[39m\u001b[38;5;124m\"\u001b[39m)\n",
      "File \u001b[1;32m~\\AppData\\Roaming\\Python\\Python311\\site-packages\\llmware\\embeddings.py:123\u001b[0m, in \u001b[0;36mEmbeddingHandler.create_new_embedding\u001b[1;34m(self, embedding_db, model, doc_ids, batch_size)\u001b[0m\n\u001b[0;32m    119\u001b[0m \u001b[38;5;28;01mdef\u001b[39;00m \u001b[38;5;21mcreate_new_embedding\u001b[39m(\u001b[38;5;28mself\u001b[39m, embedding_db, model, doc_ids\u001b[38;5;241m=\u001b[39m\u001b[38;5;28;01mNone\u001b[39;00m, batch_size\u001b[38;5;241m=\u001b[39m\u001b[38;5;241m500\u001b[39m):\n\u001b[0;32m    121\u001b[0m \u001b[38;5;250m    \u001b[39m\u001b[38;5;124;03m\"\"\" Creates new embedding - routes to correct vector db and loads the model and text collection \"\"\"\u001b[39;00m\n\u001b[1;32m--> 123\u001b[0m     embedding_class \u001b[38;5;241m=\u001b[39m \u001b[38;5;28mself\u001b[39m\u001b[38;5;241m.\u001b[39m_load_embedding_db(embedding_db, model\u001b[38;5;241m=\u001b[39mmodel)\n\u001b[0;32m    124\u001b[0m     embedding_status \u001b[38;5;241m=\u001b[39m embedding_class\u001b[38;5;241m.\u001b[39mcreate_new_embedding(doc_ids, batch_size)\n\u001b[0;32m    126\u001b[0m     \u001b[38;5;28;01mif\u001b[39;00m embedding_status:\n",
      "File \u001b[1;32m~\\AppData\\Roaming\\Python\\Python311\\site-packages\\llmware\\embeddings.py:178\u001b[0m, in \u001b[0;36mEmbeddingHandler._load_embedding_db\u001b[1;34m(self, embedding_db, model, model_name, embedding_dims)\u001b[0m\n\u001b[0;32m    175\u001b[0m     \u001b[38;5;28;01mraise\u001b[39;00m UnsupportedEmbeddingDatabaseException(embedding_db)\n\u001b[0;32m    177\u001b[0m \u001b[38;5;28;01mif\u001b[39;00m embedding_db \u001b[38;5;241m==\u001b[39m \u001b[38;5;124m\"\u001b[39m\u001b[38;5;124mmilvus\u001b[39m\u001b[38;5;124m\"\u001b[39m: \n\u001b[1;32m--> 178\u001b[0m     \u001b[38;5;28;01mreturn\u001b[39;00m EmbeddingMilvus(\u001b[38;5;28mself\u001b[39m\u001b[38;5;241m.\u001b[39mlibrary, model\u001b[38;5;241m=\u001b[39mmodel, model_name\u001b[38;5;241m=\u001b[39mmodel_name,\n\u001b[0;32m    179\u001b[0m                            embedding_dims\u001b[38;5;241m=\u001b[39membedding_dims)\n\u001b[0;32m    181\u001b[0m \u001b[38;5;28;01mif\u001b[39;00m embedding_db \u001b[38;5;241m==\u001b[39m \u001b[38;5;124m\"\u001b[39m\u001b[38;5;124mfaiss\u001b[39m\u001b[38;5;124m\"\u001b[39m: \n\u001b[0;32m    182\u001b[0m     \u001b[38;5;28;01mreturn\u001b[39;00m EmbeddingFAISS(\u001b[38;5;28mself\u001b[39m\u001b[38;5;241m.\u001b[39mlibrary, model\u001b[38;5;241m=\u001b[39mmodel, model_name\u001b[38;5;241m=\u001b[39mmodel_name,\n\u001b[0;32m    183\u001b[0m                           embedding_dims\u001b[38;5;241m=\u001b[39membedding_dims)\n",
      "File \u001b[1;32m~\\AppData\\Roaming\\Python\\Python311\\site-packages\\llmware\\embeddings.py:418\u001b[0m, in \u001b[0;36mEmbeddingMilvus.__init__\u001b[1;34m(self, library, model, model_name, embedding_dims)\u001b[0m\n\u001b[0;32m    415\u001b[0m \u001b[38;5;28mself\u001b[39m\u001b[38;5;241m.\u001b[39mmilvus_alias \u001b[38;5;241m=\u001b[39m \u001b[38;5;124m\"\u001b[39m\u001b[38;5;124mdefault\u001b[39m\u001b[38;5;124m\"\u001b[39m\n\u001b[0;32m    417\u001b[0m \u001b[38;5;66;03m# Connect to milvus\u001b[39;00m\n\u001b[1;32m--> 418\u001b[0m connections\u001b[38;5;241m.\u001b[39mconnect(\u001b[38;5;28mself\u001b[39m\u001b[38;5;241m.\u001b[39mmilvus_alias,\n\u001b[0;32m    419\u001b[0m                     host\u001b[38;5;241m=\u001b[39mMilvusConfig\u001b[38;5;241m.\u001b[39mget_config(\u001b[38;5;124m\"\u001b[39m\u001b[38;5;124mhost\u001b[39m\u001b[38;5;124m\"\u001b[39m),\n\u001b[0;32m    420\u001b[0m                     port\u001b[38;5;241m=\u001b[39mMilvusConfig\u001b[38;5;241m.\u001b[39mget_config(\u001b[38;5;124m\"\u001b[39m\u001b[38;5;124mport\u001b[39m\u001b[38;5;124m\"\u001b[39m),\n\u001b[0;32m    421\u001b[0m                     db_name\u001b[38;5;241m=\u001b[39mMilvusConfig\u001b[38;5;241m.\u001b[39mget_config(\u001b[38;5;124m\"\u001b[39m\u001b[38;5;124mdb_name\u001b[39m\u001b[38;5;124m\"\u001b[39m))\n\u001b[0;32m    423\u001b[0m \u001b[38;5;66;03m# look up model card\u001b[39;00m\n\u001b[0;32m    424\u001b[0m \u001b[38;5;28;01mif\u001b[39;00m \u001b[38;5;129;01mnot\u001b[39;00m model \u001b[38;5;129;01mand\u001b[39;00m \u001b[38;5;129;01mnot\u001b[39;00m model_name:\n",
      "File \u001b[1;32m~\\AppData\\Roaming\\Python\\Python311\\site-packages\\pymilvus\\orm\\connections.py:420\u001b[0m, in \u001b[0;36mConnections.connect\u001b[1;34m(self, alias, user, password, db_name, token, **kwargs)\u001b[0m\n\u001b[0;32m    417\u001b[0m         \u001b[38;5;28;01mif\u001b[39;00m parsed_uri\u001b[38;5;241m.\u001b[39mscheme \u001b[38;5;241m==\u001b[39m \u001b[38;5;124m\"\u001b[39m\u001b[38;5;124mhttps\u001b[39m\u001b[38;5;124m\"\u001b[39m:\n\u001b[0;32m    418\u001b[0m             kwargs[\u001b[38;5;124m\"\u001b[39m\u001b[38;5;124msecure\u001b[39m\u001b[38;5;124m\"\u001b[39m] \u001b[38;5;241m=\u001b[39m \u001b[38;5;28;01mTrue\u001b[39;00m\n\u001b[1;32m--> 420\u001b[0m     connect_milvus(\u001b[38;5;241m*\u001b[39m\u001b[38;5;241m*\u001b[39mkwargs, user\u001b[38;5;241m=\u001b[39muser, password\u001b[38;5;241m=\u001b[39mpassword, token\u001b[38;5;241m=\u001b[39mtoken, db_name\u001b[38;5;241m=\u001b[39mdb_name)\n\u001b[0;32m    421\u001b[0m     \u001b[38;5;28;01mreturn\u001b[39;00m\n\u001b[0;32m    423\u001b[0m \u001b[38;5;66;03m# 2nd Priority, connection configs from env\u001b[39;00m\n",
      "File \u001b[1;32m~\\AppData\\Roaming\\Python\\Python311\\site-packages\\pymilvus\\orm\\connections.py:371\u001b[0m, in \u001b[0;36mConnections.connect.<locals>.connect_milvus\u001b[1;34m(**kwargs)\u001b[0m\n\u001b[0;32m    368\u001b[0m t \u001b[38;5;241m=\u001b[39m kwargs\u001b[38;5;241m.\u001b[39mget(\u001b[38;5;124m\"\u001b[39m\u001b[38;5;124mtimeout\u001b[39m\u001b[38;5;124m\"\u001b[39m)\n\u001b[0;32m    369\u001b[0m timeout \u001b[38;5;241m=\u001b[39m t \u001b[38;5;28;01mif\u001b[39;00m \u001b[38;5;28misinstance\u001b[39m(t, (\u001b[38;5;28mint\u001b[39m, \u001b[38;5;28mfloat\u001b[39m)) \u001b[38;5;28;01melse\u001b[39;00m Config\u001b[38;5;241m.\u001b[39mMILVUS_CONN_TIMEOUT\n\u001b[1;32m--> 371\u001b[0m gh\u001b[38;5;241m.\u001b[39m_wait_for_channel_ready(timeout\u001b[38;5;241m=\u001b[39mtimeout)\n\u001b[0;32m    372\u001b[0m \u001b[38;5;28;01mif\u001b[39;00m kwargs\u001b[38;5;241m.\u001b[39mget(\u001b[38;5;124m\"\u001b[39m\u001b[38;5;124mkeep_alive\u001b[39m\u001b[38;5;124m\"\u001b[39m, \u001b[38;5;28;01mFalse\u001b[39;00m):\n\u001b[0;32m    373\u001b[0m     gh\u001b[38;5;241m.\u001b[39mregister_state_change_callback(\n\u001b[0;32m    374\u001b[0m         ReconnectHandler(\u001b[38;5;28mself\u001b[39m, alias, kwargs_copy)\u001b[38;5;241m.\u001b[39mreconnect_on_idle\n\u001b[0;32m    375\u001b[0m     )\n",
      "File \u001b[1;32m~\\AppData\\Roaming\\Python\\Python311\\site-packages\\pymilvus\\client\\grpc_handler.py:146\u001b[0m, in \u001b[0;36mGrpcHandler._wait_for_channel_ready\u001b[1;34m(self, timeout)\u001b[0m\n\u001b[0;32m    144\u001b[0m     \u001b[38;5;28mself\u001b[39m\u001b[38;5;241m.\u001b[39m_setup_identifier_interceptor(\u001b[38;5;28mself\u001b[39m\u001b[38;5;241m.\u001b[39m_user, timeout\u001b[38;5;241m=\u001b[39mtimeout)\n\u001b[0;32m    145\u001b[0m \u001b[38;5;28;01mexcept\u001b[39;00m grpc\u001b[38;5;241m.\u001b[39mFutureTimeoutError \u001b[38;5;28;01mas\u001b[39;00m e:\n\u001b[1;32m--> 146\u001b[0m     \u001b[38;5;28;01mraise\u001b[39;00m MilvusException(\n\u001b[0;32m    147\u001b[0m         code\u001b[38;5;241m=\u001b[39mStatus\u001b[38;5;241m.\u001b[39mCONNECT_FAILED,\n\u001b[0;32m    148\u001b[0m         message\u001b[38;5;241m=\u001b[39m\u001b[38;5;124mf\u001b[39m\u001b[38;5;124m\"\u001b[39m\u001b[38;5;124mFail connecting to server on \u001b[39m\u001b[38;5;132;01m{\u001b[39;00m\u001b[38;5;28mself\u001b[39m\u001b[38;5;241m.\u001b[39m_address\u001b[38;5;132;01m}\u001b[39;00m\u001b[38;5;124m, illegal connection params or server unavailable\u001b[39m\u001b[38;5;124m\"\u001b[39m,\n\u001b[0;32m    149\u001b[0m     ) \u001b[38;5;28;01mfrom\u001b[39;00m \u001b[38;5;21;01me\u001b[39;00m\n\u001b[0;32m    150\u001b[0m \u001b[38;5;28;01mexcept\u001b[39;00m \u001b[38;5;167;01mException\u001b[39;00m \u001b[38;5;28;01mas\u001b[39;00m e:\n\u001b[0;32m    151\u001b[0m     \u001b[38;5;28;01mraise\u001b[39;00m e \u001b[38;5;28;01mfrom\u001b[39;00m \u001b[38;5;21;01me\u001b[39;00m\n",
      "\u001b[1;31mMilvusException\u001b[0m: <MilvusException: (code=2, message=Fail connecting to server on localhost:19530, illegal connection params or server unavailable)>"
     ]
    }
   ],
   "source": [
    "## you can create two or more vector data based with different model for mix and match.\n",
    "\n",
    "#   to install an embedding on a library - pick an embedding model and vector_db\n",
    "lib.install_new_embedding(embedding_model_name=\"mini-lm-sbert\", vector_db=\"milvus\", batch_size=500)\n",
    "\n",
    "#   to add a second embedding to the same library (mix-and-match models + vector db)\n",
    "lib.install_new_embedding(embedding_model_name=\"industry-bert-sec\", vector_db=\"faiss\", batch_size=100)\n",
    "\n",
    "#   see all libraries\n",
    "all_my_libs = Library().get_all_library_cards()"
   ]
  },
  {
   "cell_type": "code",
   "execution_count": 12,
   "id": "787f025b",
   "metadata": {},
   "outputs": [
    {
     "ename": "EmbeddingModelNotFoundException",
     "evalue": "Embedding model for 'my_library' could not be located",
     "output_type": "error",
     "traceback": [
      "\u001b[1;31m---------------------------------------------------------------------------\u001b[0m",
      "\u001b[1;31mEmbeddingModelNotFoundException\u001b[0m           Traceback (most recent call last)",
      "Cell \u001b[1;32mIn[12], line 13\u001b[0m\n\u001b[0;32m     10\u001b[0m results1 \u001b[38;5;241m=\u001b[39m q\u001b[38;5;241m.\u001b[39mtext_query(\u001b[38;5;124m\"\u001b[39m\u001b[38;5;124mtext query\u001b[39m\u001b[38;5;124m\"\u001b[39m, result_count\u001b[38;5;241m=\u001b[39m\u001b[38;5;241m20\u001b[39m, exact_mode\u001b[38;5;241m=\u001b[39m\u001b[38;5;28;01mFalse\u001b[39;00m)\n\u001b[0;32m     12\u001b[0m \u001b[38;5;66;03m#    semantic query\u001b[39;00m\n\u001b[1;32m---> 13\u001b[0m results2 \u001b[38;5;241m=\u001b[39m q\u001b[38;5;241m.\u001b[39msemantic_query(\u001b[38;5;124m\"\u001b[39m\u001b[38;5;124msemantic query\u001b[39m\u001b[38;5;124m\"\u001b[39m, result_count\u001b[38;5;241m=\u001b[39m\u001b[38;5;241m10\u001b[39m)\n",
      "File \u001b[1;32m~\\AppData\\Roaming\\Python\\Python311\\site-packages\\llmware\\retrieval.py:710\u001b[0m, in \u001b[0;36mQuery.semantic_query\u001b[1;34m(self, query, result_count, embedding_distance_threshold, custom_filter, results_only)\u001b[0m\n\u001b[0;32m    708\u001b[0m     \u001b[38;5;28mself\u001b[39m\u001b[38;5;241m.\u001b[39mquery_embedding \u001b[38;5;241m=\u001b[39m \u001b[38;5;28mself\u001b[39m\u001b[38;5;241m.\u001b[39membedding_model\u001b[38;5;241m.\u001b[39membedding(query)\n\u001b[0;32m    709\u001b[0m \u001b[38;5;28;01melse\u001b[39;00m:\n\u001b[1;32m--> 710\u001b[0m     \u001b[38;5;28;01mraise\u001b[39;00m EmbeddingModelNotFoundException(\u001b[38;5;28mself\u001b[39m\u001b[38;5;241m.\u001b[39mlibrary_name)\n\u001b[0;32m    712\u001b[0m \u001b[38;5;28;01mif\u001b[39;00m \u001b[38;5;28mself\u001b[39m\u001b[38;5;241m.\u001b[39membedding_db \u001b[38;5;129;01mand\u001b[39;00m \u001b[38;5;28mself\u001b[39m\u001b[38;5;241m.\u001b[39membedding_model:\n\u001b[0;32m    714\u001b[0m     semantic_block_results \u001b[38;5;241m=\u001b[39m \u001b[38;5;28mself\u001b[39m\u001b[38;5;241m.\u001b[39membeddings\u001b[38;5;241m.\u001b[39msearch_index(\u001b[38;5;28mself\u001b[39m\u001b[38;5;241m.\u001b[39mquery_embedding,\n\u001b[0;32m    715\u001b[0m                                                           embedding_db\u001b[38;5;241m=\u001b[39m\u001b[38;5;28mself\u001b[39m\u001b[38;5;241m.\u001b[39membedding_db,\n\u001b[0;32m    716\u001b[0m                                                           model\u001b[38;5;241m=\u001b[39m\u001b[38;5;28mself\u001b[39m\u001b[38;5;241m.\u001b[39membedding_model,\n\u001b[0;32m    717\u001b[0m                                                           sample_count\u001b[38;5;241m=\u001b[39mresult_count)\n",
      "\u001b[1;31mEmbeddingModelNotFoundException\u001b[0m: Embedding model for 'my_library' could not be located"
     ]
    }
   ],
   "source": [
    "#   step 1 - load the previously created library \n",
    "lib = Library().load_library(\"my_library1\")\n",
    "\n",
    "#   step 2 - create a query object and pass the library\n",
    "q = Query(lib)\n",
    "\n",
    "#    step 3 - run lots of different queries  (many other options in the examples)\n",
    "\n",
    "#    basic text query\n",
    "results1 = q.text_query(\"text query\", result_count=20, exact_mode=False)\n",
    "\n",
    "#    semantic query\n",
    "results2 = q.semantic_query(\"semantic query\", result_count=10)"
   ]
  },
  {
   "cell_type": "code",
   "execution_count": null,
   "id": "4f9e8826",
   "metadata": {},
   "outputs": [],
   "source": []
  }
 ],
 "metadata": {
  "kernelspec": {
   "display_name": "Python 3 (ipykernel)",
   "language": "python",
   "name": "python3"
  },
  "language_info": {
   "codemirror_mode": {
    "name": "ipython",
    "version": 3
   },
   "file_extension": ".py",
   "mimetype": "text/x-python",
   "name": "python",
   "nbconvert_exporter": "python",
   "pygments_lexer": "ipython3",
   "version": "3.11.4"
  }
 },
 "nbformat": 4,
 "nbformat_minor": 5
}
